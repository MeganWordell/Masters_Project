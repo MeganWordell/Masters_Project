{
 "cells": [
  {
   "cell_type": "markdown",
   "id": "385b44ba",
   "metadata": {},
   "source": [
    "# New York City and State cases and fees, fines, and surcharges from NY State Unified Court System (accessed via FOIL)"
   ]
  },
  {
   "cell_type": "code",
   "execution_count": 1,
   "id": "b46db8ae",
   "metadata": {},
   "outputs": [],
   "source": [
    "%load_ext rpy2.ipython\n",
    "%load_ext autoreload\n",
    "%autoreload 2\n",
    "\n",
    "%matplotlib inline  \n",
    "from matplotlib import rcParams\n",
    "rcParams['figure.figsize'] = (16, 100)\n",
    "\n",
    "import warnings\n",
    "from rpy2.rinterface import RRuntimeWarning\n",
    "warnings.filterwarnings(\"ignore\") # Ignore all warnings\n",
    "# warnings.filterwarnings(\"ignore\", category=RRuntimeWarning) # Show some warnings\n",
    "\n",
    "import pandas as pd\n",
    "import numpy as np\n",
    "import matplotlib.pyplot as plt\n",
    "from IPython.display import display, HTML"
   ]
  },
  {
   "cell_type": "code",
   "execution_count": 2,
   "id": "fef1f133",
   "metadata": {},
   "outputs": [
    {
     "data": {
      "application/javascript": [
       "// Disable auto-scrolling\n",
       "IPython.OutputArea.prototype._should_scroll = function(lines) {\n",
       "    return false;\n",
       "}\n"
      ],
      "text/plain": [
       "<IPython.core.display.Javascript object>"
      ]
     },
     "metadata": {},
     "output_type": "display_data"
    }
   ],
   "source": [
    "%%javascript\n",
    "// Disable auto-scrolling\n",
    "IPython.OutputArea.prototype._should_scroll = function(lines) {\n",
    "    return false;\n",
    "}"
   ]
  },
  {
   "cell_type": "code",
   "execution_count": 3,
   "id": "4791d2de",
   "metadata": {},
   "outputs": [
    {
     "name": "stdout",
     "output_type": "stream",
     "text": [
      "The rpy2.ipython extension is already loaded. To reload it, use:\n",
      "  %reload_ext rpy2.ipython\n",
      "The autoreload extension is already loaded. To reload it, use:\n",
      "  %reload_ext autoreload\n"
     ]
    }
   ],
   "source": [
    "%load_ext rpy2.ipython\n",
    "%load_ext autoreload\n",
    "%autoreload 2\n",
    "\n",
    "%matplotlib inline  \n",
    "from matplotlib import rcParams\n",
    "rcParams['figure.figsize'] = (8, 8)\n",
    "\n",
    "import warnings\n",
    "from rpy2.rinterface import RRuntimeWarning\n",
    "warnings.filterwarnings(\"ignore\") # Ignore all warnings\n",
    "# warnings.filterwarnings(\"ignore\", category=RRuntimeWarning) # Show some warnings\n",
    "\n",
    "import pandas as pd\n",
    "import numpy as np\n",
    "import matplotlib.pyplot as plt\n",
    "from IPython.display import display, HTML"
   ]
  },
  {
   "cell_type": "code",
   "execution_count": 4,
   "id": "93d057c8",
   "metadata": {},
   "outputs": [
    {
     "name": "stderr",
     "output_type": "stream",
     "text": [
      "R[write to console]: Loading required package: tidyverse\n",
      "\n"
     ]
    },
    {
     "name": "stdout",
     "output_type": "stream",
     "text": [
      "── Attaching packages ─────────────────────────────────────── tidyverse 1.3.2 ──\n",
      "✔ ggplot2 3.4.1     ✔ purrr   0.3.5\n",
      "✔ tibble  3.2.1     ✔ dplyr   1.1.2\n",
      "✔ tidyr   1.2.1     ✔ stringr 1.4.1\n",
      "✔ readr   2.1.3     ✔ forcats 0.5.2\n",
      "── Conflicts ────────────────────────────────────────── tidyverse_conflicts() ──\n",
      "✖ dplyr::filter() masks stats::filter()\n",
      "✖ dplyr::lag()    masks stats::lag()\n"
     ]
    }
   ],
   "source": [
    "%%R\n",
    "\n",
    "require('tidyverse')"
   ]
  },
  {
   "cell_type": "code",
   "execution_count": 5,
   "id": "3824af11",
   "metadata": {
    "scrolled": true
   },
   "outputs": [],
   "source": [
    "%%R\n",
    "\n",
    "# Read the first CSV file\n",
    "nyc <- read.csv(\"NYC_from_website.csv\")\n",
    "\n",
    "# Read the second CSV file\n",
    "onyc <- read.csv(\"ONYC_from_website.csv\")\n",
    "\n",
    "# Combine the data from both files\n",
    "merged_data <- rbind(nyc, onyc)\n",
    "\n",
    "# Write the merged data to a new CSV file\n",
    "write.csv(merged_data, file = \"website_merged.csv\", row.names = FALSE)\n"
   ]
  },
  {
   "cell_type": "code",
   "execution_count": 6,
   "id": "5963946d",
   "metadata": {},
   "outputs": [
    {
     "name": "stdout",
     "output_type": "stream",
     "text": [
      "\n",
      "\n",
      "| Row..|Court.Type               |Region |District   |County   |Court                   |Arresting.Agency |Arrest.Type | Arraign.Year| Arraign.Month|Top.Charge.at.Arraignment |Severity    |Weight |Law |Article.Section |Attempt.Flag |Gender |Ethnicity    |Race    | Arrest.Age|Docket.Status |Disposition.Type |Disposition.Detail             |Dismissal.Reason               |Most.Severe.Sentence | Fines.Imposed| Fees.Imposed| Surcharges.Imposed|\n",
      "|-----:|:------------------------|:------|:----------|:--------|:-----------------------|:----------------|:-----------|------------:|-------------:|:-------------------------|:-----------|:------|:---|:---------------|:------------|:------|:------------|:-------|----------:|:-------------|:----------------|:------------------------------|:------------------------------|:--------------------|-------------:|------------:|------------------:|\n",
      "|     1|Local-NYC Criminal Court |NYC    |District 1 |New York |Midtown Community Court |NYCPD PCT 014    |DAT         |         2020|            11|Petit Larceny             |Misdemeanor |AM     |PL  |155.25          |             |Male   |Non-Hispanic |Unknown |         31|Disposed      |Dismissed        |Dismissed                      |Dismissed                      |                     |            NA|           NA|                 NA|\n",
      "|     2|Local-NYC Criminal Court |NYC    |District 1 |New York |Midtown Community Court |NYCPD PCT MPCTS  |DAT         |         2020|            11|Petit Larceny             |Misdemeanor |AM     |PL  |155.25          |             |Female |Hispanic     |White   |         34|Disposed      |Dism-ACD         |Adjourned - Cpl Section 170.55 |Adjourned - Cpl Section 170.55 |                     |            NA|           NA|                 NA|\n",
      "|     3|Local-NYC Criminal Court |NYC    |District 1 |New York |Midtown Community Court |Unknown          |DAT         |         2020|            11|Intnt/Frd Obt Trns W/O Py |Misdemeanor |AM     |PL  |165.15          |             |Male   |Hispanic     |White   |         19|Disposed      |Dismissed        |Dismissed                      |Dismissed                      |                     |            NA|           NA|                 NA|\n",
      "|     4|Local-NYC Criminal Court |NYC    |District 1 |New York |Midtown Community Court |NYCPD PCT MPCTS  |DAT         |         2020|            11|Petit Larceny             |Misdemeanor |AM     |PL  |155.25          |             |Male   |Hispanic     |White   |         27|Disposed      |Dismissed        |Dismissed-Interest Of Justice  |Dismissed-Interest Of Justice  |                     |            NA|           NA|                 NA|\n",
      "|     5|Local-NYC Criminal Court |NYC    |District 1 |New York |Midtown Community Court |NYCPD PCT MPCTS  |NYC Summons |         2020|            11|Dis/Con:Obstructing Traff |Violation   |V      |PL  |240.20          |             |Male   |Unknown      |Unknown |         NA|Disposed      |Dismissed        |Dismissed                      |Dismissed                      |                     |            NA|           NA|                 NA|\n"
     ]
    }
   ],
   "source": [
    "%%R\n",
    "\n",
    "#install.packages(\"knitr\")\n",
    "library(knitr)\n",
    "\n",
    "#install.packages(\"IRdisplay\")\n",
    "library(IRdisplay)\n",
    "\n",
    "# Read the CSV file\n",
    "website_merged <- read.csv(\"website_merged.csv\")\n",
    "\n",
    "# Print the first 5 rows of the data as a table\n",
    "table_output <- knitr::kable(head(website_merged, n = 5))\n",
    "IRdisplay::display(table_output)\n",
    "\n",
    "table_output"
   ]
  },
  {
   "cell_type": "code",
   "execution_count": 7,
   "id": "3813e890",
   "metadata": {
    "scrolled": false
   },
   "outputs": [
    {
     "name": "stdout",
     "output_type": "stream",
     "text": [
      "# A tibble: 3 × 2\n",
      "  Severity    Sum_Value\n",
      "  <chr>           <dbl>\n",
      "1 Felony             NA\n",
      "2 Misdemeanor        NA\n",
      "3 Violation          NA\n"
     ]
    }
   ],
   "source": [
    "%%R\n",
    "library(dplyr)\n",
    "\n",
    "\n",
    "# Group the data by the Category variable and calculate the sum of Value for each group\n",
    "sum_data <- website_merged %>%\n",
    "  dplyr::group_by(Severity) %>%\n",
    "  dplyr::summarize(Sum_Value = sum(Surcharges.Imposed))\n",
    "\n",
    "# Print the summed data\n",
    "print(sum_data)\n"
   ]
  },
  {
   "cell_type": "code",
   "execution_count": 8,
   "id": "20d446b6",
   "metadata": {},
   "outputs": [
    {
     "name": "stdout",
     "output_type": "stream",
     "text": [
      "'data.frame':\t1024025 obs. of  28 variables:\n",
      " $ Row..                    : int  1 2 3 4 5 6 7 8 9 10 ...\n",
      " $ Court.Type               : chr  \"Local-NYC Criminal Court\" \"Local-NYC Criminal Court\" \"Local-NYC Criminal Court\" \"Local-NYC Criminal Court\" ...\n",
      " $ Region                   : chr  \"NYC\" \"NYC\" \"NYC\" \"NYC\" ...\n",
      " $ District                 : chr  \"District 1\" \"District 1\" \"District 1\" \"District 1\" ...\n",
      " $ County                   : chr  \"New York\" \"New York\" \"New York\" \"New York\" ...\n",
      " $ Court                    : chr  \"Midtown Community Court\" \"Midtown Community Court\" \"Midtown Community Court\" \"Midtown Community Court\" ...\n",
      " $ Arresting.Agency         : chr  \"NYCPD PCT 014\" \"NYCPD PCT MPCTS\" \"Unknown\" \"NYCPD PCT MPCTS\" ...\n",
      " $ Arrest.Type              : chr  \"DAT\" \"DAT\" \"DAT\" \"DAT\" ...\n",
      " $ Arraign.Year             : int  2020 2020 2020 2020 2020 2020 2020 2020 2020 2020 ...\n",
      " $ Arraign.Month            : int  11 11 11 11 11 11 11 11 11 11 ...\n",
      " $ Top.Charge.at.Arraignment: chr  \"Petit Larceny\" \"Petit Larceny\" \"Intnt/Frd Obt Trns W/O Py\" \"Petit Larceny\" ...\n",
      " $ Severity                 : chr  \"Misdemeanor\" \"Misdemeanor\" \"Misdemeanor\" \"Misdemeanor\" ...\n",
      " $ Weight                   : chr  \"AM\" \"AM\" \"AM\" \"AM\" ...\n",
      " $ Law                      : chr  \"PL\" \"PL\" \"PL\" \"PL\" ...\n",
      " $ Article.Section          : chr  \"155.25\" \"155.25\" \"165.15\" \"155.25\" ...\n",
      " $ Attempt.Flag             : chr  \"    \" \"    \" \"    \" \"    \" ...\n",
      " $ Gender                   : chr  \"Male\" \"Female\" \"Male\" \"Male\" ...\n",
      " $ Ethnicity                : chr  \"Non-Hispanic\" \"Hispanic\" \"Hispanic\" \"Hispanic\" ...\n",
      " $ Race                     : chr  \"Unknown\" \"White\" \"White\" \"White\" ...\n",
      " $ Arrest.Age               : int  31 34 19 27 NA NA NA 40 NA 20 ...\n",
      " $ Docket.Status            : chr  \"Disposed\" \"Disposed\" \"Disposed\" \"Disposed\" ...\n",
      " $ Disposition.Type         : chr  \"Dismissed\" \"Dism-ACD\" \"Dismissed\" \"Dismissed\" ...\n",
      " $ Disposition.Detail       : chr  \"Dismissed\" \"Adjourned - Cpl Section 170.55\" \"Dismissed\" \"Dismissed-Interest Of Justice\" ...\n",
      " $ Dismissal.Reason         : chr  \"Dismissed\" \"Adjourned - Cpl Section 170.55\" \"Dismissed\" \"Dismissed-Interest Of Justice\" ...\n",
      " $ Most.Severe.Sentence     : chr  \" \" \" \" \" \" \" \" ...\n",
      " $ Fines.Imposed            : num  NA NA NA NA NA NA NA NA NA NA ...\n",
      " $ Fees.Imposed             : num  NA NA NA NA NA NA NA NA NA NA ...\n",
      " $ Surcharges.Imposed       : num  0 0 0 0 0 0 0 0 0 0 ...\n"
     ]
    }
   ],
   "source": [
    "%%R\n",
    "website_merged$Surcharges.Imposed[is.na(website_merged$Surcharges.Imposed)] <- 0\n",
    "\n",
    "str(website_merged)"
   ]
  },
  {
   "cell_type": "code",
   "execution_count": 9,
   "id": "ebdc3845",
   "metadata": {},
   "outputs": [
    {
     "name": "stdout",
     "output_type": "stream",
     "text": [
      "# A tibble: 3 × 2\n",
      "  Severity    Sum_Value\n",
      "  <chr>           <dbl>\n",
      "1 Felony      13523597.\n",
      "2 Misdemeanor 17176847.\n",
      "3 Violation     563411 \n"
     ]
    }
   ],
   "source": [
    "%%R\n",
    "library(dplyr)\n",
    "\n",
    "\n",
    "# Group the data by the Category variable and calculate the sum of Value for each group\n",
    "sum_data <- website_merged %>%\n",
    "  dplyr::group_by(Severity) %>%\n",
    "  dplyr::summarize(Sum_Value = sum(Surcharges.Imposed))\n",
    "\n",
    "# Print the summed data\n",
    "print(sum_data)\n"
   ]
  },
  {
   "cell_type": "code",
   "execution_count": 10,
   "id": "05d9ba82",
   "metadata": {},
   "outputs": [
    {
     "name": "stdout",
     "output_type": "stream",
     "text": [
      "\n",
      "     Felony Misdemeanor   Violation \n",
      "     274641      620820      128564 \n"
     ]
    }
   ],
   "source": [
    "%%R\n",
    "\n",
    "counts <- table(website_merged$Severity)\n",
    "\n",
    "# Print the value counts\n",
    "print(counts)"
   ]
  },
  {
   "cell_type": "code",
   "execution_count": 11,
   "id": "3bdbfc20",
   "metadata": {},
   "outputs": [
    {
     "name": "stdout",
     "output_type": "stream",
     "text": [
      "\n",
      "  Asian   Black  Indian   Other Unknown   White \n",
      "  18582  372493    2130    5468  234054  391298 \n"
     ]
    }
   ],
   "source": [
    "%%R\n",
    "\n",
    "race <- table(website_merged$Race)\n",
    "\n",
    "# Print the value counts\n",
    "print(race)"
   ]
  },
  {
   "cell_type": "code",
   "execution_count": 12,
   "id": "4a90a583",
   "metadata": {},
   "outputs": [
    {
     "name": "stdout",
     "output_type": "stream",
     "text": [
      "# A tibble: 5,035 × 2\n",
      "   Top.Charge.at.Arraignment      Sum_Value\n",
      "   <chr>                              <dbl>\n",
      " 1 DWI- 1st Offense                2036076 \n",
      " 2 Petit Larceny                   1988713 \n",
      " 3 Aggravated Unlic Oper Veh-3rd   1987389.\n",
      " 4 Oper MV Bac .08 Of 1% -1st Off  1702710 \n",
      " 5 Crim Poss Contrl Subst-7th      1671072 \n",
      " 6 Cpw-2nd: Loaded Firearm         1230697 \n",
      " 7 Aslt 3-W/Int Cause Phys Injury   942369 \n",
      " 8 Op Mv While Intoxicated 1        917383 \n",
      " 9 Crim Contempt-2nd:Disobey Crt    566846 \n",
      "10 Aslt W/Int Cause Ph Inj W/Weap   483915 \n",
      "# ℹ 5,025 more rows\n",
      "# ℹ Use `print(n = ...)` to see more rows\n"
     ]
    }
   ],
   "source": [
    "%%R\n",
    "library(dplyr)\n",
    "\n",
    "# Group the data by the Top.Charge.at.Arraignment variable and calculate the sum of Surcharges.Imposed for each group\n",
    "sum_data_by_charge <- website_merged %>%\n",
    "  group_by(Top.Charge.at.Arraignment) %>%\n",
    "  summarize(Sum_Value = sum(Surcharges.Imposed))\n",
    "\n",
    "# Sort the summarized data in descending order based on Sum_Value\n",
    "sorted_data <- sum_data_by_charge %>%\n",
    "  arrange(desc(Sum_Value))\n",
    "\n",
    "# Print the sorted data\n",
    "print(sorted_data)\n"
   ]
  },
  {
   "cell_type": "code",
   "execution_count": 13,
   "id": "d8573905",
   "metadata": {},
   "outputs": [
    {
     "name": "stdout",
     "output_type": "stream",
     "text": [
      "# A tibble: 6 × 2\n",
      "  Race    Sum_Value\n",
      "  <chr>       <dbl>\n",
      "1 White   13213780.\n",
      "2 Black   11132010.\n",
      "3 Unknown  6273101 \n",
      "4 Asian     314546 \n",
      "5 Other     273589 \n",
      "6 Indian     56829 \n"
     ]
    }
   ],
   "source": [
    "%%R\n",
    "library(dplyr)\n",
    "\n",
    "# Group the data by the Top.Charge.at.Arraignment variable and calculate the sum of Surcharges.Imposed for each group\n",
    "sum_data_by_race <- website_merged %>%\n",
    "  group_by(Race) %>%\n",
    "  summarize(Sum_Value = sum(Surcharges.Imposed))\n",
    "\n",
    "# Sort the summarized data in descending order based on Sum_Value\n",
    "sorted_data_by_race <- sum_data_by_race %>%\n",
    "  arrange(desc(Sum_Value))\n",
    "\n",
    "# Print the sorted data\n",
    "print(sorted_data_by_race)\n",
    "\n"
   ]
  },
  {
   "cell_type": "code",
   "execution_count": null,
   "id": "e80f2e7c",
   "metadata": {},
   "outputs": [],
   "source": [
    "%%R\n",
    "\n",
    "library(dplyr)\n",
    "\n",
    "# Group the data by the Race variable and calculate the sum of Surcharges.Imposed for each group\n",
    "sum_data_by_race <- website_merged %>%\n",
    "  group_by(Race) %>%\n",
    "  summarize(Sum_Value = sum(Surcharges.Imposed))\n",
    "\n",
    "# Calculate the count of each race\n",
    "race_counts <- website_merged %>%\n",
    "  count(Race)\n",
    "\n",
    "# Merge the summed data with the counts\n",
    "merged_data <- left_join(sum_data_by_race, race_counts, by = \"Race\")\n",
    "\n",
    "# Calculate the ratio by dividing Sum_Value by n (count)\n",
    "merged_data <- merged_data %>%\n",
    "  mutate(Ratio = Sum_Value / n)\n",
    "\n",
    "# Sort the data by Ratio in descending order\n",
    "sorted_data_by_ratio <- merged_data %>%\n",
    "  arrange(desc(Ratio))\n",
    "\n",
    "# Print the sorted data\n",
    "print(sorted_data_by_ratio)\n"
   ]
  },
  {
   "cell_type": "code",
   "execution_count": 19,
   "id": "bf941dbe",
   "metadata": {},
   "outputs": [
    {
     "name": "stdout",
     "output_type": "stream",
     "text": [
      "# A tibble: 62 × 2\n",
      "   County      Sum_Value\n",
      "   <chr>           <dbl>\n",
      " 1 Nassau       3504858 \n",
      " 2 New York     3167008 \n",
      " 3 Suffolk      2972390 \n",
      " 4 Queens       2701216 \n",
      " 5 Kings        2026665 \n",
      " 6 Bronx        1802758.\n",
      " 7 Westchester  1387391 \n",
      " 8 Erie         1062365 \n",
      " 9 Monroe       1044703 \n",
      "10 Richmond      908430 \n",
      "# ℹ 52 more rows\n",
      "# ℹ Use `print(n = ...)` to see more rows\n"
     ]
    }
   ],
   "source": [
    "%%R\n",
    "library(dplyr)\n",
    "\n",
    "# Group the data by the Top.Charge.at.Arraignment variable and calculate the sum of Surcharges.Imposed for each group\n",
    "sum_data_by_County <- website_merged %>%\n",
    "  group_by(County) %>%\n",
    "  summarize(Sum_Value = sum(Surcharges.Imposed))\n",
    "\n",
    "# Sort the summarized data in descending order based on Sum_Value\n",
    "sorted_data_by_County <- sum_data_by_County %>%\n",
    "  arrange(desc(Sum_Value))\n",
    "\n",
    "# Print the sorted data\n",
    "print(sorted_data_by_County)"
   ]
  },
  {
   "cell_type": "code",
   "execution_count": 20,
   "id": "f397ab43",
   "metadata": {},
   "outputs": [
    {
     "name": "stdout",
     "output_type": "stream",
     "text": [
      "'data.frame':\t1024025 obs. of  28 variables:\n",
      " $ Row..                    : int  1 2 3 4 5 6 7 8 9 10 ...\n",
      " $ Court.Type               : chr  \"Local-NYC Criminal Court\" \"Local-NYC Criminal Court\" \"Local-NYC Criminal Court\" \"Local-NYC Criminal Court\" ...\n",
      " $ Region                   : chr  \"NYC\" \"NYC\" \"NYC\" \"NYC\" ...\n",
      " $ District                 : chr  \"District 1\" \"District 1\" \"District 1\" \"District 1\" ...\n",
      " $ County                   : chr  \"New York\" \"New York\" \"New York\" \"New York\" ...\n",
      " $ Court                    : chr  \"Midtown Community Court\" \"Midtown Community Court\" \"Midtown Community Court\" \"Midtown Community Court\" ...\n",
      " $ Arresting.Agency         : chr  \"NYCPD PCT 014\" \"NYCPD PCT MPCTS\" \"Unknown\" \"NYCPD PCT MPCTS\" ...\n",
      " $ Arrest.Type              : chr  \"DAT\" \"DAT\" \"DAT\" \"DAT\" ...\n",
      " $ Arraign.Year             : int  2020 2020 2020 2020 2020 2020 2020 2020 2020 2020 ...\n",
      " $ Arraign.Month            : int  11 11 11 11 11 11 11 11 11 11 ...\n",
      " $ Top.Charge.at.Arraignment: chr  \"Petit Larceny\" \"Petit Larceny\" \"Intnt/Frd Obt Trns W/O Py\" \"Petit Larceny\" ...\n",
      " $ Severity                 : chr  \"Misdemeanor\" \"Misdemeanor\" \"Misdemeanor\" \"Misdemeanor\" ...\n",
      " $ Weight                   : chr  \"AM\" \"AM\" \"AM\" \"AM\" ...\n",
      " $ Law                      : chr  \"PL\" \"PL\" \"PL\" \"PL\" ...\n",
      " $ Article.Section          : chr  \"155.25\" \"155.25\" \"165.15\" \"155.25\" ...\n",
      " $ Attempt.Flag             : chr  \"    \" \"    \" \"    \" \"    \" ...\n",
      " $ Gender                   : chr  \"Male\" \"Female\" \"Male\" \"Male\" ...\n",
      " $ Ethnicity                : chr  \"Non-Hispanic\" \"Hispanic\" \"Hispanic\" \"Hispanic\" ...\n",
      " $ Race                     : chr  \"Unknown\" \"White\" \"White\" \"White\" ...\n",
      " $ Arrest.Age               : int  31 34 19 27 NA NA NA 40 NA 20 ...\n",
      " $ Docket.Status            : chr  \"Disposed\" \"Disposed\" \"Disposed\" \"Disposed\" ...\n",
      " $ Disposition.Type         : chr  \"Dismissed\" \"Dism-ACD\" \"Dismissed\" \"Dismissed\" ...\n",
      " $ Disposition.Detail       : chr  \"Dismissed\" \"Adjourned - Cpl Section 170.55\" \"Dismissed\" \"Dismissed-Interest Of Justice\" ...\n",
      " $ Dismissal.Reason         : chr  \"Dismissed\" \"Adjourned - Cpl Section 170.55\" \"Dismissed\" \"Dismissed-Interest Of Justice\" ...\n",
      " $ Most.Severe.Sentence     : chr  \" \" \" \" \" \" \" \" ...\n",
      " $ Fines.Imposed            : num  NA NA NA NA NA NA NA NA NA NA ...\n",
      " $ Fees.Imposed             : num  0 0 0 0 0 0 0 0 0 0 ...\n",
      " $ Surcharges.Imposed       : num  0 0 0 0 0 0 0 0 0 0 ...\n"
     ]
    }
   ],
   "source": [
    "%%R\n",
    "website_merged$Fees.Imposed[is.na(website_merged$Fees.Imposed)] <- 0\n",
    "\n",
    "str(website_merged)"
   ]
  },
  {
   "cell_type": "code",
   "execution_count": 21,
   "id": "ca6eb38c",
   "metadata": {},
   "outputs": [
    {
     "name": "stdout",
     "output_type": "stream",
     "text": [
      "'data.frame':\t1024025 obs. of  28 variables:\n",
      " $ Row..                    : int  1 2 3 4 5 6 7 8 9 10 ...\n",
      " $ Court.Type               : chr  \"Local-NYC Criminal Court\" \"Local-NYC Criminal Court\" \"Local-NYC Criminal Court\" \"Local-NYC Criminal Court\" ...\n",
      " $ Region                   : chr  \"NYC\" \"NYC\" \"NYC\" \"NYC\" ...\n",
      " $ District                 : chr  \"District 1\" \"District 1\" \"District 1\" \"District 1\" ...\n",
      " $ County                   : chr  \"New York\" \"New York\" \"New York\" \"New York\" ...\n",
      " $ Court                    : chr  \"Midtown Community Court\" \"Midtown Community Court\" \"Midtown Community Court\" \"Midtown Community Court\" ...\n",
      " $ Arresting.Agency         : chr  \"NYCPD PCT 014\" \"NYCPD PCT MPCTS\" \"Unknown\" \"NYCPD PCT MPCTS\" ...\n",
      " $ Arrest.Type              : chr  \"DAT\" \"DAT\" \"DAT\" \"DAT\" ...\n",
      " $ Arraign.Year             : int  2020 2020 2020 2020 2020 2020 2020 2020 2020 2020 ...\n",
      " $ Arraign.Month            : int  11 11 11 11 11 11 11 11 11 11 ...\n",
      " $ Top.Charge.at.Arraignment: chr  \"Petit Larceny\" \"Petit Larceny\" \"Intnt/Frd Obt Trns W/O Py\" \"Petit Larceny\" ...\n",
      " $ Severity                 : chr  \"Misdemeanor\" \"Misdemeanor\" \"Misdemeanor\" \"Misdemeanor\" ...\n",
      " $ Weight                   : chr  \"AM\" \"AM\" \"AM\" \"AM\" ...\n",
      " $ Law                      : chr  \"PL\" \"PL\" \"PL\" \"PL\" ...\n",
      " $ Article.Section          : chr  \"155.25\" \"155.25\" \"165.15\" \"155.25\" ...\n",
      " $ Attempt.Flag             : chr  \"    \" \"    \" \"    \" \"    \" ...\n",
      " $ Gender                   : chr  \"Male\" \"Female\" \"Male\" \"Male\" ...\n",
      " $ Ethnicity                : chr  \"Non-Hispanic\" \"Hispanic\" \"Hispanic\" \"Hispanic\" ...\n",
      " $ Race                     : chr  \"Unknown\" \"White\" \"White\" \"White\" ...\n",
      " $ Arrest.Age               : int  31 34 19 27 NA NA NA 40 NA 20 ...\n",
      " $ Docket.Status            : chr  \"Disposed\" \"Disposed\" \"Disposed\" \"Disposed\" ...\n",
      " $ Disposition.Type         : chr  \"Dismissed\" \"Dism-ACD\" \"Dismissed\" \"Dismissed\" ...\n",
      " $ Disposition.Detail       : chr  \"Dismissed\" \"Adjourned - Cpl Section 170.55\" \"Dismissed\" \"Dismissed-Interest Of Justice\" ...\n",
      " $ Dismissal.Reason         : chr  \"Dismissed\" \"Adjourned - Cpl Section 170.55\" \"Dismissed\" \"Dismissed-Interest Of Justice\" ...\n",
      " $ Most.Severe.Sentence     : chr  \" \" \" \" \" \" \" \" ...\n",
      " $ Fines.Imposed            : num  0 0 0 0 0 0 0 0 0 0 ...\n",
      " $ Fees.Imposed             : num  0 0 0 0 0 0 0 0 0 0 ...\n",
      " $ Surcharges.Imposed       : num  0 0 0 0 0 0 0 0 0 0 ...\n"
     ]
    }
   ],
   "source": [
    "%%R\n",
    "website_merged$Fines.Imposed[is.na(website_merged$Fines.Imposed)] <- 0\n",
    "\n",
    "str(website_merged)"
   ]
  },
  {
   "cell_type": "code",
   "execution_count": 23,
   "id": "168de18b",
   "metadata": {},
   "outputs": [
    {
     "name": "stdout",
     "output_type": "stream",
     "text": [
      "# A tibble: 5,035 × 2\n",
      "   Top.Charge.at.Arraignment      Sum_Value\n",
      "   <chr>                              <dbl>\n",
      " 1 Petit Larceny                   4580646 \n",
      " 2 DWI- 1st Offense                4165605 \n",
      " 3 Aggravated Unlic Oper Veh-3rd   4091949.\n",
      " 4 Crim Poss Contrl Subst-7th      3758324 \n",
      " 5 Oper MV Bac .08 Of 1% -1st Off  3472540 \n",
      " 6 Cpw-2nd: Loaded Firearm         2756013 \n",
      " 7 Aslt 3-W/Int Cause Phys Injury  2119222 \n",
      " 8 Op Mv While Intoxicated 1       1952015 \n",
      " 9 Crim Contempt-2nd:Disobey Crt   1300350 \n",
      "10 Aslt W/Int Cause Ph Inj W/Weap  1101230 \n",
      "# ℹ 5,025 more rows\n",
      "# ℹ Use `print(n = ...)` to see more rows\n"
     ]
    }
   ],
   "source": [
    "%%R\n",
    "library(dplyr)\n",
    "\n",
    "# Group the data by the Top.Charge.at.Arraignment variable and calculate the sum of Surcharges.Imposed and Fees combined for each group\n",
    "sum_data_by_charge <- website_merged %>%\n",
    "  group_by(Top.Charge.at.Arraignment) %>%\n",
    "  summarize(Sum_Value = sum(Surcharges.Imposed + Fees.Imposed + Surcharges.Imposed))\n",
    "\n",
    "# Sort the summarized data in descending order based on Sum_Value\n",
    "sorted_data <- sum_data_by_charge %>%\n",
    "  arrange(desc(Sum_Value))\n",
    "\n",
    "# Print the sorted data\n",
    "print(sorted_data)\n"
   ]
  },
  {
   "cell_type": "code",
   "execution_count": 30,
   "id": "3cce683a",
   "metadata": {},
   "outputs": [
    {
     "name": "stdout",
     "output_type": "stream",
     "text": [
      "# A tibble: 62 × 2\n",
      "# Groups:   County [62]\n",
      "   County      Sum_Value\n",
      "   <chr>           <dbl>\n",
      " 1 Nassau       7595633 \n",
      " 2 New York     7330562 \n",
      " 3 Suffolk      6485433 \n",
      " 4 Queens       6064728 \n",
      " 5 Kings        4594138 \n",
      " 6 Bronx        4088679.\n",
      " 7 Westchester  3044561 \n",
      " 8 Erie         2420158 \n",
      " 9 Monroe       2250676 \n",
      "10 Richmond     2029261 \n",
      "11 Orange       1785131 \n",
      "12 Albany       1621319 \n",
      "13 Oneida       1571619 \n",
      "14 Niagara      1386267 \n",
      "15 Onondaga     1304686 \n",
      "16 Chautauqua   1072669 \n",
      "17 Saratoga      992481 \n",
      "18 Broome        902374 \n",
      "19 Chemung       878547 \n",
      "20 Oswego        873489 \n",
      "21 Schenectady   812553 \n",
      "22 Cayuga        719578 \n",
      "23 Rensselaer    610976 \n",
      "24 Cattaraugus   565448 \n",
      "25 Clinton       560996 \n",
      "26 Ontario       555800 \n",
      "27 Dutchess      550238 \n",
      "28 Ulster        532205 \n",
      "29 Montgomery    504961 \n",
      "30 Genesee       487523 \n",
      "31 Steuben       476978 \n",
      "32 Warren        453332 \n",
      "33 Fulton        431927 \n",
      "34 St Lawrence   426820 \n",
      "35 Madison       415934 \n",
      "36 Cortland      325653 \n",
      "37 Rockland      270925 \n",
      "38 Wayne         260620 \n",
      "39 Jefferson     258628 \n",
      "40 Wyoming       235001 \n",
      "41 Chenango      233255 \n",
      "42 Columbia      212874 \n",
      "43 Tompkins      207333 \n",
      "44 Otsego        200651 \n",
      "45 Washington    185295 \n",
      "46 Livingston    156896 \n",
      "47 Sullivan      150880 \n",
      "48 Herkimer      150820 \n",
      "49 Seneca        132247 \n",
      "50 Greene        124625 \n",
      "51 Franklin       96407 \n",
      "52 Lewis          95706 \n",
      "53 Orleans        89717 \n",
      "54 Tioga          88750 \n",
      "55 Yates          82915 \n",
      "56 Putnam         77405 \n",
      "57 Schuyler       62845 \n",
      "58 Delaware       51243 \n",
      "59 Allegany       46286 \n",
      "60 Essex          32135 \n",
      "61 Schoharie      28127 \n",
      "62 Hamilton        6265 \n"
     ]
    }
   ],
   "source": [
    "%%R\n",
    "library(dplyr)\n",
    "\n",
    "# Group the data by the County variable and calculate the sum of charges, fees, and surcharges imposed for each group\n",
    "sum_data_by_County <- website_merged %>%\n",
    "  group_by(County) %>%\n",
    "  summarize(Sum_Value = sum(Surcharges.Imposed + Fees.Imposed + Surcharges.Imposed), .groups = \"keep\")\n",
    "\n",
    "# Sort the summarized data in descending order based on Sum_Value\n",
    "sorted_data_by_County <- sum_data_by_County %>%\n",
    "  arrange(desc(Sum_Value))\n",
    "\n",
    "# Print the sorted data including all columns\n",
    "print(sorted_data_by_County, n = 62)\n"
   ]
  },
  {
   "cell_type": "code",
   "execution_count": null,
   "id": "c842d1dd",
   "metadata": {},
   "outputs": [],
   "source": [
    "#now we want to join this with revenue data "
   ]
  },
  {
   "cell_type": "code",
   "execution_count": null,
   "id": "176b13a9",
   "metadata": {},
   "outputs": [],
   "source": [
    "%%R\n",
    "library(dplyr)\n",
    "\n",
    "# Group the data by the Top.Charge.at.Arraignment variable and calculate the sum of Surcharges.Imposed for each group\n",
    "sum_data_by_County <- website_merged %>%\n",
    "  group_by(County) %>%\n",
    "  summarize(Sum_Value = sum(Surcharges.Imposed + Fees.Imposed + Surcharges.Imposed))\n",
    "\n",
    "# Sort the summarized data in descending order based on Sum_Value\n",
    "sorted_data_by_County <- sum_data_by_County %>%\n",
    "  arrange(desc(Sum_Value))\n",
    "\n",
    "# Print the sorted data\n",
    "print(sorted_data_by_County)"
   ]
  },
  {
   "cell_type": "code",
   "execution_count": null,
   "id": "2ab917d7",
   "metadata": {},
   "outputs": [],
   "source": []
  },
  {
   "cell_type": "code",
   "execution_count": null,
   "id": "d6dd2468",
   "metadata": {},
   "outputs": [],
   "source": []
  }
 ],
 "metadata": {
  "kernelspec": {
   "display_name": "Python 3 (ipykernel)",
   "language": "python",
   "name": "python3"
  },
  "language_info": {
   "codemirror_mode": {
    "name": "ipython",
    "version": 3
   },
   "file_extension": ".py",
   "mimetype": "text/x-python",
   "name": "python",
   "nbconvert_exporter": "python",
   "pygments_lexer": "ipython3",
   "version": "3.11.0rc2"
  }
 },
 "nbformat": 4,
 "nbformat_minor": 5
}
