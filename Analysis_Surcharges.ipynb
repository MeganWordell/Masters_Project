{
 "cells": [
  {
   "cell_type": "markdown",
   "id": "cb1f2ad3",
   "metadata": {},
   "source": [
    "# New York City and State cases and fees, fines, and surcharges from NY State Unified Court System\n",
    "\n",
    "[Data can be accessed here](https://ww2.nycourts.gov/oca-stat-act-31371)"
   ]
  },
  {
   "cell_type": "code",
   "execution_count": 12,
   "id": "fafb1197",
   "metadata": {},
   "outputs": [
    {
     "name": "stdout",
     "output_type": "stream",
     "text": [
      "The rpy2.ipython extension is already loaded. To reload it, use:\n",
      "  %reload_ext rpy2.ipython\n",
      "The autoreload extension is already loaded. To reload it, use:\n",
      "  %reload_ext autoreload\n"
     ]
    }
   ],
   "source": [
    "%load_ext rpy2.ipython\n",
    "%load_ext autoreload\n",
    "%autoreload 2\n",
    "\n",
    "%matplotlib inline  \n",
    "from matplotlib import rcParams\n",
    "rcParams['figure.figsize'] = (16, 100)\n",
    "\n",
    "import warnings\n",
    "from rpy2.rinterface import RRuntimeWarning\n",
    "warnings.filterwarnings(\"ignore\") # Ignore all warnings\n",
    "# warnings.filterwarnings(\"ignore\", category=RRuntimeWarning) # Show some warnings\n",
    "\n",
    "import pandas as pd\n",
    "import numpy as np\n",
    "import matplotlib.pyplot as plt\n",
    "from IPython.display import display, HTML"
   ]
  },
  {
   "cell_type": "code",
   "execution_count": 3,
   "id": "6dbddaae",
   "metadata": {},
   "outputs": [
    {
     "data": {
      "application/javascript": [
       "// Disable auto-scrolling\n",
       "IPython.OutputArea.prototype._should_scroll = function(lines) {\n",
       "    return false;\n",
       "}\n"
      ],
      "text/plain": [
       "<IPython.core.display.Javascript object>"
      ]
     },
     "metadata": {},
     "output_type": "display_data"
    }
   ],
   "source": [
    "%%javascript\n",
    "// Disable auto-scrolling\n",
    "IPython.OutputArea.prototype._should_scroll = function(lines) {\n",
    "    return false;\n",
    "}"
   ]
  },
  {
   "cell_type": "code",
   "execution_count": 9,
   "id": "a0d8c349",
   "metadata": {},
   "outputs": [],
   "source": [
    "%%R\n",
    "df <- read.csv(\"NYC_Cases_Surcharges.csv\")"
   ]
  },
  {
   "cell_type": "code",
   "execution_count": 17,
   "id": "36dad5c2",
   "metadata": {},
   "outputs": [
    {
     "name": "stdout",
     "output_type": "stream",
     "text": [
      "# A tibble: 487,623 × 29\n",
      "# Groups:   \"Top Charge at Arraignment\" [1]\n",
      "   Row.. Court.Type    Region District County Court Arresting.Agency Arrest.Type\n",
      "   <int> <chr>         <chr>  <chr>    <chr>  <chr> <chr>            <chr>      \n",
      " 1     1 Local-NYC Cr… NYC    Distric… New Y… Midt… NYCPD PCT 014    DAT        \n",
      " 2     2 Local-NYC Cr… NYC    Distric… New Y… Midt… NYCPD PCT MPCTS  DAT        \n",
      " 3     3 Local-NYC Cr… NYC    Distric… New Y… Midt… Unknown          DAT        \n",
      " 4     4 Local-NYC Cr… NYC    Distric… New Y… Midt… NYCPD PCT MPCTS  DAT        \n",
      " 5     5 Local-NYC Cr… NYC    Distric… New Y… Midt… NYCPD PCT MPCTS  NYC Summons\n",
      " 6     6 Local-NYC Cr… NYC    Distric… New Y… Midt… NYCPD PCT 014    NYC Summons\n",
      " 7     7 Local-NYC Cr… NYC    Distric… New Y… Midt… Unknown          NYC Summons\n",
      " 8     8 Local-NYC Cr… NYC    Distric… New Y… Midt… NYCPD PCT 014    DAT        \n",
      " 9     9 Local-NYC Cr… NYC    Distric… New Y… Midt… NYCPD PCT 552    NYC Summons\n",
      "10    10 Local-NYC Cr… NYC    Distric… New Y… Midt… NYCPD PCT 872    DAT        \n",
      "# ℹ 487,613 more rows\n",
      "# ℹ 21 more variables: Arraign.Year <int>, Arraign.Month <int>,\n",
      "#   Top.Charge.at.Arraignment <chr>, Severity <chr>, Weight <chr>, Law <chr>,\n",
      "#   Article.Section <chr>, Attempt.Flag <chr>, Gender <chr>, Ethnicity <chr>,\n",
      "#   Race <chr>, Arrest.Age <int>, Docket.Status <chr>, Disposition.Type <chr>,\n",
      "#   Disposition.Detail <chr>, Dismissal.Reason <chr>,\n",
      "#   Most.Severe.Sentence <chr>, Fines.Imposed <dbl>, Fees.Imposed <dbl>, …\n",
      "# ℹ Use `print(n = ...)` to see more rows\n"
     ]
    }
   ],
   "source": [
    "%%R\n",
    "library(dplyr)\n",
    "grouped_data <- group_by(df, \"Top Charge at Arraignment\")\n",
    "sorted_data <- arrange(grouped_data, \"Surcharges Imposed\")\n",
    "sorted_data"
   ]
  },
  {
   "cell_type": "code",
   "execution_count": 24,
   "id": "ac917cce",
   "metadata": {},
   "outputs": [],
   "source": [
    "import pandas as pd\n",
    "df = pd.read_csv(\"NYC_Cases_Surcharges.csv\")"
   ]
  },
  {
   "cell_type": "code",
   "execution_count": 23,
   "id": "25488bd4",
   "metadata": {},
   "outputs": [
    {
     "data": {
      "text/html": [
       "<div>\n",
       "<style scoped>\n",
       "    .dataframe tbody tr th:only-of-type {\n",
       "        vertical-align: middle;\n",
       "    }\n",
       "\n",
       "    .dataframe tbody tr th {\n",
       "        vertical-align: top;\n",
       "    }\n",
       "\n",
       "    .dataframe thead th {\n",
       "        text-align: right;\n",
       "    }\n",
       "</style>\n",
       "<table border=\"1\" class=\"dataframe\">\n",
       "  <thead>\n",
       "    <tr style=\"text-align: right;\">\n",
       "      <th></th>\n",
       "      <th>Top Charge at Arraignment</th>\n",
       "      <th>Surcharges Imposed</th>\n",
       "    </tr>\n",
       "  </thead>\n",
       "  <tbody>\n",
       "    <tr>\n",
       "      <th>1276</th>\n",
       "      <td>Petit Larceny</td>\n",
       "      <td>1402248.0</td>\n",
       "    </tr>\n",
       "    <tr>\n",
       "      <th>437</th>\n",
       "      <td>Crim Poss Contrl Subst-7th</td>\n",
       "      <td>749155.0</td>\n",
       "    </tr>\n",
       "    <tr>\n",
       "      <th>385</th>\n",
       "      <td>Cpw-2nd: Loaded Firearm</td>\n",
       "      <td>637270.0</td>\n",
       "    </tr>\n",
       "    <tr>\n",
       "      <th>121</th>\n",
       "      <td>Aslt 3-W/Int Cause Phys Injury</td>\n",
       "      <td>620245.0</td>\n",
       "    </tr>\n",
       "    <tr>\n",
       "      <th>88</th>\n",
       "      <td>Aggravated Unlic Oper Veh-3rd</td>\n",
       "      <td>475076.8</td>\n",
       "    </tr>\n",
       "    <tr>\n",
       "      <th>...</th>\n",
       "      <td>...</td>\n",
       "      <td>...</td>\n",
       "    </tr>\n",
       "    <tr>\n",
       "      <th>906</th>\n",
       "      <td>Hate Crime/Robbery-2:Injure</td>\n",
       "      <td>0.0</td>\n",
       "    </tr>\n",
       "    <tr>\n",
       "      <th>905</th>\n",
       "      <td>Hate Crime/Reck Endanger-2nd</td>\n",
       "      <td>0.0</td>\n",
       "    </tr>\n",
       "    <tr>\n",
       "      <th>904</th>\n",
       "      <td>Hate Crime/Reck Endanger-1st</td>\n",
       "      <td>0.0</td>\n",
       "    </tr>\n",
       "    <tr>\n",
       "      <th>903</th>\n",
       "      <td>Hate Crime/Petit Larceny</td>\n",
       "      <td>0.0</td>\n",
       "    </tr>\n",
       "    <tr>\n",
       "      <th>1891</th>\n",
       "      <td>unlawful manufacture and distribution of a can...</td>\n",
       "      <td>0.0</td>\n",
       "    </tr>\n",
       "  </tbody>\n",
       "</table>\n",
       "<p>1892 rows × 2 columns</p>\n",
       "</div>"
      ],
      "text/plain": [
       "                              Top Charge at Arraignment  Surcharges Imposed\n",
       "1276                                      Petit Larceny           1402248.0\n",
       "437                          Crim Poss Contrl Subst-7th            749155.0\n",
       "385                             Cpw-2nd: Loaded Firearm            637270.0\n",
       "121                      Aslt 3-W/Int Cause Phys Injury            620245.0\n",
       "88                        Aggravated Unlic Oper Veh-3rd            475076.8\n",
       "...                                                 ...                 ...\n",
       "906                         Hate Crime/Robbery-2:Injure                 0.0\n",
       "905                        Hate Crime/Reck Endanger-2nd                 0.0\n",
       "904                        Hate Crime/Reck Endanger-1st                 0.0\n",
       "903                            Hate Crime/Petit Larceny                 0.0\n",
       "1891  unlawful manufacture and distribution of a can...                 0.0\n",
       "\n",
       "[1892 rows x 2 columns]"
      ]
     },
     "execution_count": 23,
     "metadata": {},
     "output_type": "execute_result"
    }
   ],
   "source": [
    "grouped_data = df.groupby('Top Charge at Arraignment')['Surcharges Imposed'].sum().reset_index()\n",
    "sorted_data = grouped_data.sort_values(by='Surcharges Imposed', ascending=False)\n",
    "sorted_data"
   ]
  },
  {
   "cell_type": "markdown",
   "id": "ebb50344",
   "metadata": {},
   "source": [
    "<strong> The data above show figures since November 2021, felonies included"
   ]
  },
  {
   "cell_type": "code",
   "execution_count": 1,
   "id": "96a1e18b",
   "metadata": {},
   "outputs": [],
   "source": [
    "# importing pandas\n",
    "import pandas as pd\n",
    "\n",
    "# merging two csv files\n",
    "df = pd.concat(\n",
    "\tmap(pd.read_csv, ['mydata.csv', 'mydata1.csv']), ignore_index=True)\n",
    "print(df)\n",
    "\n"
   ]
  },
  {
   "cell_type": "code",
   "execution_count": null,
   "id": "63fafc65",
   "metadata": {},
   "outputs": [],
   "source": [
    "files = os.path.join(\"C:\\Users\\amit_\\Desktop\\\", \"sales*.csv\")"
   ]
  }
 ],
 "metadata": {
  "kernelspec": {
   "display_name": "Python 3 (ipykernel)",
   "language": "python",
   "name": "python3"
  },
  "language_info": {
   "codemirror_mode": {
    "name": "ipython",
    "version": 3
   },
   "file_extension": ".py",
   "mimetype": "text/x-python",
   "name": "python",
   "nbconvert_exporter": "python",
   "pygments_lexer": "ipython3",
   "version": "3.11.0rc2"
  }
 },
 "nbformat": 4,
 "nbformat_minor": 5
}
